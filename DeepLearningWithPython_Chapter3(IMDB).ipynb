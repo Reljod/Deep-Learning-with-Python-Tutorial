{
 "cells": [
  {
   "cell_type": "markdown",
   "metadata": {
    "colab_type": "text",
    "id": "iM5u-lpFdAsj"
   },
   "source": [
    "# Getting Started With Neural Networks\n",
    "### This chapter covers\n",
    "- Core components of neural networks\n",
    "- An introduction to Keras\n",
    "- Setting up a deep-learning workstation\n",
    "- Using neural networks to solve basic classification and regression problems"
   ]
  },
  {
   "cell_type": "code",
   "execution_count": 0,
   "metadata": {
    "colab": {},
    "colab_type": "code",
    "id": "YHWB39SFdP9D"
   },
   "outputs": [],
   "source": [
    "import os\n",
    "import numpy as np\n",
    "import tensorflow as tf\n",
    "os.environ['TF_CPP_MIN_LOG_LEVEL'] = '3'"
   ]
  },
  {
   "cell_type": "markdown",
   "metadata": {
    "colab_type": "text",
    "id": "rgLqKh-feHlN"
   },
   "source": [
    "# Classifying movie reviews: a binary classification sample\n",
    "\n",
    "## The IMDB dataset"
   ]
  },
  {
   "cell_type": "code",
   "execution_count": 0,
   "metadata": {
    "colab": {},
    "colab_type": "code",
    "id": "8RTaHgsJo--2"
   },
   "outputs": [],
   "source": [
    "from keras.datasets import imdb\n",
    "(train_data, train_labels), (test_data, test_labels) = imdb.load_data(num_words=10000)"
   ]
  },
  {
   "cell_type": "code",
   "execution_count": 0,
   "metadata": {
    "colab": {
     "base_uri": "https://localhost:8080/",
     "height": 74
    },
    "colab_type": "code",
    "id": "QqmBMSQ_qbxD",
    "outputId": "52b97405-9816-4334-ef9e-a5248360836e"
   },
   "outputs": [
    {
     "name": "stdout",
     "output_type": "stream",
     "text": [
      "Train data:  [1, 14, 22, 16, 43, 530, 973, 1622, 1385, 65, 458, 4468, 66, 3941, 4, 173, 36, 256, 5, 25, 100, 43, 838, 112, 50, 670, 2, 9, 35, 480, 284, 5, 150, 4, 172, 112, 167, 2, 336, 385, 39, 4, 172, 4536, 1111, 17, 546, 38, 13, 447, 4, 192, 50, 16, 6, 147, 2025, 19, 14, 22, 4, 1920, 4613, 469, 4, 22, 71, 87, 12, 16, 43, 530, 38, 76, 15, 13, 1247, 4, 22, 17, 515, 17, 12, 16, 626, 18, 2, 5, 62, 386, 12, 8, 316, 8, 106, 5, 4, 2223, 5244, 16, 480, 66, 3785, 33, 4, 130, 12, 16, 38, 619, 5, 25, 124, 51, 36, 135, 48, 25, 1415, 33, 6, 22, 12, 215, 28, 77, 52, 5, 14, 407, 16, 82, 2, 8, 4, 107, 117, 5952, 15, 256, 4, 2, 7, 3766, 5, 723, 36, 71, 43, 530, 476, 26, 400, 317, 46, 7, 4, 2, 1029, 13, 104, 88, 4, 381, 15, 297, 98, 32, 2071, 56, 26, 141, 6, 194, 7486, 18, 4, 226, 22, 21, 134, 476, 26, 480, 5, 144, 30, 5535, 18, 51, 36, 28, 224, 92, 25, 104, 4, 226, 65, 16, 38, 1334, 88, 12, 16, 283, 5, 16, 4472, 113, 103, 32, 15, 16, 5345, 19, 178, 32]\n",
      "Train labels:  1\n"
     ]
    }
   ],
   "source": [
    "print(\"Train data: \", train_data[0])\n",
    "print(\"Train labels: \", train_labels[0])"
   ]
  },
  {
   "cell_type": "code",
   "execution_count": 0,
   "metadata": {
    "colab": {
     "base_uri": "https://localhost:8080/",
     "height": 35
    },
    "colab_type": "code",
    "id": "IqQAqpniq28E",
    "outputId": "c0ff81d3-c95b-462d-864d-4cf4f49bbfdc"
   },
   "outputs": [
    {
     "name": "stdout",
     "output_type": "stream",
     "text": [
      "Max word index:  9999\n"
     ]
    }
   ],
   "source": [
    "max_index = max([max(sequence) for sequence in train_data])\n",
    "print(\"Max word index: \", max_index)"
   ]
  },
  {
   "cell_type": "code",
   "execution_count": 0,
   "metadata": {
    "colab": {},
    "colab_type": "code",
    "id": "2LnHwnurq9wn"
   },
   "outputs": [],
   "source": [
    "word_index = imdb.get_word_index()\n",
    "reverse_word_index = dict([(value, key) for (key, value) in word_index.items()])\n",
    "decoded_review = \" \".join([reverse_word_index.get(i - 3, '?') for i in train_data[0]])"
   ]
  },
  {
   "cell_type": "code",
   "execution_count": 0,
   "metadata": {
    "colab": {
     "base_uri": "https://localhost:8080/",
     "height": 74
    },
    "colab_type": "code",
    "id": "ueLMs9k8tvN8",
    "outputId": "0a2d912e-cd2b-49ff-830d-d7bb5c575535"
   },
   "outputs": [
    {
     "name": "stdout",
     "output_type": "stream",
     "text": [
      "Decoded Review: \n",
      " ? this film was just brilliant casting location scenery story direction everyone's really suited the part they played and you could just imagine being there robert ? is an amazing actor and now the same being director ? father came from the same scottish island as myself so i loved the fact there was a real connection with this film the witty remarks throughout the film were great it was just brilliant so much that i bought the film as soon as it was released for ? and would recommend it to everyone to watch and the fly fishing was amazing really cried at the end it was so sad and you know what they say if you cry at a film it must have been good and this definitely was also ? to the two little boy's that played the ? of norman and paul they were just brilliant children are often left out of the ? list i think because the stars that play them all grown up are such a big profile for the whole film but these children are amazing and should be praised for what they have done don't you think the whole story was so lovely because it was true and was someone's life after all that was shared with us all\n"
     ]
    }
   ],
   "source": [
    "print(\"Decoded Review: \\n\", decoded_review)"
   ]
  },
  {
   "cell_type": "code",
   "execution_count": 0,
   "metadata": {
    "colab": {
     "base_uri": "https://localhost:8080/",
     "height": 54
    },
    "colab_type": "code",
    "id": "egl6OFHftySq",
    "outputId": "db6242a1-bc90-41f5-ceba-cb6d8469b054"
   },
   "outputs": [
    {
     "name": "stdout",
     "output_type": "stream",
     "text": [
      "Sequence max length:  2494\n",
      "Sequence min length:  11\n"
     ]
    }
   ],
   "source": [
    "max_len = max([len(sequence) for sequence in train_data])\n",
    "min_len = min([len(sequence) for sequence in train_data])\n",
    "print(\"Sequence max length: \", max_len)\n",
    "print(\"Sequence min length: \", min_len)"
   ]
  },
  {
   "cell_type": "markdown",
   "metadata": {
    "colab_type": "text",
    "id": "wYwUKV9Duc19"
   },
   "source": [
    "## Encoding the integer sequence into a binary matrix"
   ]
  },
  {
   "cell_type": "code",
   "execution_count": 0,
   "metadata": {
    "colab": {},
    "colab_type": "code",
    "id": "sJKy_S7ovXow"
   },
   "outputs": [],
   "source": [
    "def vectorize_sequences(sequences, dimensions=10000):\n",
    "  results = np.zeros((len(sequences), dimensions))\n",
    "  for i, sequence in enumerate(sequences):\n",
    "    results[i, sequence] = 1\n",
    "  return results"
   ]
  },
  {
   "cell_type": "code",
   "execution_count": 0,
   "metadata": {
    "colab": {},
    "colab_type": "code",
    "id": "-yAPzDuPwCzN"
   },
   "outputs": [],
   "source": [
    "x_train = vectorize_sequences(train_data)\n",
    "x_test = vectorize_sequences(test_data)"
   ]
  },
  {
   "cell_type": "code",
   "execution_count": 0,
   "metadata": {
    "colab": {
     "base_uri": "https://localhost:8080/",
     "height": 54
    },
    "colab_type": "code",
    "id": "wnuuOKjpwMEH",
    "outputId": "6f2b88b7-23c1-41b9-8a8c-1e2c5d8ab87b"
   },
   "outputs": [
    {
     "name": "stdout",
     "output_type": "stream",
     "text": [
      "Sample train data (0):  [0. 1. 1. 0. 1. 1. 1. 1. 1. 1. 0. 0. 1. 1. 1. 1. 1. 1. 1. 1.]\n",
      "Sample test data (0):  [0. 1. 1. 0. 1. 1. 1. 1. 1. 1. 1. 0. 0. 1. 1. 0. 1. 0. 0. 0.]\n"
     ]
    }
   ],
   "source": [
    "# First 20 words\n",
    "print(\"Sample train data (0): \", x_train[0][:20])\n",
    "print(\"Sample test data (0): \", x_test[0][:20])"
   ]
  },
  {
   "cell_type": "code",
   "execution_count": 0,
   "metadata": {
    "colab": {},
    "colab_type": "code",
    "id": "NIgAyiydwTFX"
   },
   "outputs": [],
   "source": [
    "y_train = np.asarray(train_labels).astype('float32')\n",
    "y_test = np.asarray(test_labels).astype('float32')"
   ]
  },
  {
   "cell_type": "code",
   "execution_count": 0,
   "metadata": {
    "colab": {
     "base_uri": "https://localhost:8080/",
     "height": 54
    },
    "colab_type": "code",
    "id": "8jHG1neIxHRp",
    "outputId": "60be72ea-939b-40dc-f982-d6e5ade4abc1"
   },
   "outputs": [
    {
     "name": "stdout",
     "output_type": "stream",
     "text": [
      "y_train:  [1. 0. 0. 1. 0. 0. 1. 0. 1. 0. 1. 0. 0. 0. 0. 0. 1. 1. 0. 1.]\n",
      "y_test:  [0. 1. 1. 0. 1. 1. 1. 0. 0. 1. 1. 0. 0. 0. 1. 0. 1. 0. 0. 0.]\n"
     ]
    }
   ],
   "source": [
    "# First 20 labels\n",
    "print(\"y_train: \", y_train[:20])\n",
    "print(\"y_test: \", y_test[:20])"
   ]
  },
  {
   "cell_type": "markdown",
   "metadata": {
    "colab_type": "text",
    "id": "6oGwOharxJOP"
   },
   "source": [
    "## Create a Neural Network Model"
   ]
  },
  {
   "cell_type": "code",
   "execution_count": 0,
   "metadata": {
    "colab": {},
    "colab_type": "code",
    "id": "zOYPG7WZygiE"
   },
   "outputs": [],
   "source": [
    "from keras import layers, models, optimizers, losses, metrics"
   ]
  },
  {
   "cell_type": "code",
   "execution_count": 0,
   "metadata": {
    "colab": {
     "base_uri": "https://localhost:8080/",
     "height": 254
    },
    "colab_type": "code",
    "id": "LADqPdFOyliV",
    "outputId": "60c90189-538d-4a95-e2b9-c3b2436d85a0"
   },
   "outputs": [
    {
     "name": "stdout",
     "output_type": "stream",
     "text": [
      "_________________________________________________________________\n",
      "Layer (type)                 Output Shape              Param #   \n",
      "=================================================================\n",
      "dense_72 (Dense)             (None, 16)                160016    \n",
      "_________________________________________________________________\n",
      "dense_73 (Dense)             (None, 16)                272       \n",
      "_________________________________________________________________\n",
      "dense_74 (Dense)             (None, 1)                 17        \n",
      "=================================================================\n",
      "Total params: 160,305\n",
      "Trainable params: 160,305\n",
      "Non-trainable params: 0\n",
      "_________________________________________________________________\n"
     ]
    }
   ],
   "source": [
    "model = models.Sequential()\n",
    "model.add(layers.Dense(16, activation='relu', input_shape=(10000,)))\n",
    "model.add(layers.Dense(16, activation='relu'))\n",
    "model.add(layers.Dense(1, activation='sigmoid'))\n",
    "model.compile(optimizer=optimizers.RMSprop(lr=0.001),\n",
    "              loss=losses.binary_crossentropy,\n",
    "              metrics=[metrics.binary_accuracy])\n",
    "model.summary()"
   ]
  },
  {
   "cell_type": "code",
   "execution_count": 0,
   "metadata": {
    "colab": {},
    "colab_type": "code",
    "id": "RMC5FSwGzKK7"
   },
   "outputs": [],
   "source": [
    "x_val = x_train[:10000]\n",
    "partial_x_train = x_train[10000:]\n",
    "\n",
    "y_val = y_train[:10000]\n",
    "partial_y_train = y_train[10000:]"
   ]
  },
  {
   "cell_type": "markdown",
   "metadata": {
    "colab_type": "text",
    "id": "lTUQSHu322Wx"
   },
   "source": [
    "## Train the Neural Network Model"
   ]
  },
  {
   "cell_type": "code",
   "execution_count": 0,
   "metadata": {
    "colab": {
     "base_uri": "https://localhost:8080/",
     "height": 763
    },
    "colab_type": "code",
    "id": "3osi2VAx1YgX",
    "outputId": "54225549-9930-41e0-ad0d-3cfb795693bb"
   },
   "outputs": [
    {
     "name": "stdout",
     "output_type": "stream",
     "text": [
      "Train on 15000 samples, validate on 10000 samples\n",
      "Epoch 1/20\n",
      "15000/15000 [==============================] - 3s 220us/step - loss: 0.5048 - binary_accuracy: 0.7872 - val_loss: 0.3775 - val_binary_accuracy: 0.8705\n",
      "Epoch 2/20\n",
      "15000/15000 [==============================] - 2s 144us/step - loss: 0.2991 - binary_accuracy: 0.9048 - val_loss: 0.3001 - val_binary_accuracy: 0.8898\n",
      "Epoch 3/20\n",
      "15000/15000 [==============================] - 2s 145us/step - loss: 0.2173 - binary_accuracy: 0.9282 - val_loss: 0.3083 - val_binary_accuracy: 0.8716\n",
      "Epoch 4/20\n",
      "15000/15000 [==============================] - 2s 145us/step - loss: 0.1747 - binary_accuracy: 0.9437 - val_loss: 0.2826 - val_binary_accuracy: 0.8845\n",
      "Epoch 5/20\n",
      "15000/15000 [==============================] - 2s 146us/step - loss: 0.1421 - binary_accuracy: 0.9539 - val_loss: 0.2856 - val_binary_accuracy: 0.8858\n",
      "Epoch 6/20\n",
      "15000/15000 [==============================] - 2s 145us/step - loss: 0.1147 - binary_accuracy: 0.9652 - val_loss: 0.3147 - val_binary_accuracy: 0.8776\n",
      "Epoch 7/20\n",
      "15000/15000 [==============================] - 2s 145us/step - loss: 0.0977 - binary_accuracy: 0.9709 - val_loss: 0.3132 - val_binary_accuracy: 0.8841\n",
      "Epoch 8/20\n",
      "15000/15000 [==============================] - 2s 148us/step - loss: 0.0805 - binary_accuracy: 0.9763 - val_loss: 0.3862 - val_binary_accuracy: 0.8656\n",
      "Epoch 9/20\n",
      "15000/15000 [==============================] - 2s 148us/step - loss: 0.0660 - binary_accuracy: 0.9820 - val_loss: 0.3641 - val_binary_accuracy: 0.8777\n",
      "Epoch 10/20\n",
      "15000/15000 [==============================] - 2s 149us/step - loss: 0.0558 - binary_accuracy: 0.9853 - val_loss: 0.3859 - val_binary_accuracy: 0.8781\n",
      "Epoch 11/20\n",
      "15000/15000 [==============================] - 2s 145us/step - loss: 0.0437 - binary_accuracy: 0.9896 - val_loss: 0.4189 - val_binary_accuracy: 0.8770\n",
      "Epoch 12/20\n",
      "15000/15000 [==============================] - 2s 145us/step - loss: 0.0383 - binary_accuracy: 0.9913 - val_loss: 0.4545 - val_binary_accuracy: 0.8701\n",
      "Epoch 13/20\n",
      "15000/15000 [==============================] - 2s 148us/step - loss: 0.0293 - binary_accuracy: 0.9936 - val_loss: 0.4705 - val_binary_accuracy: 0.8740\n",
      "Epoch 14/20\n",
      "15000/15000 [==============================] - 2s 147us/step - loss: 0.0254 - binary_accuracy: 0.9945 - val_loss: 0.5045 - val_binary_accuracy: 0.8723\n",
      "Epoch 15/20\n",
      "15000/15000 [==============================] - 2s 146us/step - loss: 0.0169 - binary_accuracy: 0.9987 - val_loss: 0.5385 - val_binary_accuracy: 0.8683\n",
      "Epoch 16/20\n",
      "15000/15000 [==============================] - 2s 150us/step - loss: 0.0157 - binary_accuracy: 0.9977 - val_loss: 0.5755 - val_binary_accuracy: 0.8689\n",
      "Epoch 17/20\n",
      "15000/15000 [==============================] - 2s 146us/step - loss: 0.0138 - binary_accuracy: 0.9975 - val_loss: 0.6056 - val_binary_accuracy: 0.8685\n",
      "Epoch 18/20\n",
      "15000/15000 [==============================] - 2s 147us/step - loss: 0.0084 - binary_accuracy: 0.9995 - val_loss: 0.6345 - val_binary_accuracy: 0.8674\n",
      "Epoch 19/20\n",
      "15000/15000 [==============================] - 2s 146us/step - loss: 0.0112 - binary_accuracy: 0.9981 - val_loss: 0.6626 - val_binary_accuracy: 0.8673\n",
      "Epoch 20/20\n",
      "15000/15000 [==============================] - 2s 148us/step - loss: 0.0043 - binary_accuracy: 0.9999 - val_loss: 0.6904 - val_binary_accuracy: 0.8670\n"
     ]
    }
   ],
   "source": [
    "EPOCHS = 20\n",
    "history = model.fit(partial_x_train,\n",
    "                    partial_y_train,\n",
    "                    epochs=EPOCHS,\n",
    "                    batch_size=512,\n",
    "                    validation_data=(x_val, y_val))"
   ]
  },
  {
   "cell_type": "markdown",
   "metadata": {
    "colab_type": "text",
    "id": "92Bfk0tu2-xj"
   },
   "source": [
    "## Plot the training and validation loss"
   ]
  },
  {
   "cell_type": "code",
   "execution_count": 0,
   "metadata": {
    "colab": {
     "base_uri": "https://localhost:8080/",
     "height": 35
    },
    "colab_type": "code",
    "id": "HAhqSvTr2SMI",
    "outputId": "aef00bb5-d3a4-4bf9-d8ec-210e609f29e1"
   },
   "outputs": [
    {
     "name": "stdout",
     "output_type": "stream",
     "text": [
      "History keys:  dict_keys(['val_loss', 'val_binary_accuracy', 'loss', 'binary_accuracy'])\n"
     ]
    }
   ],
   "source": [
    "history_dict = history.history\n",
    "print(\"History keys: \", history_dict.keys())"
   ]
  },
  {
   "cell_type": "code",
   "execution_count": 0,
   "metadata": {
    "colab": {},
    "colab_type": "code",
    "id": "-fQFar_x2lVg"
   },
   "outputs": [],
   "source": [
    "import matplotlib.pyplot as plt"
   ]
  },
  {
   "cell_type": "code",
   "execution_count": 0,
   "metadata": {
    "colab": {
     "base_uri": "https://localhost:8080/",
     "height": 295
    },
    "colab_type": "code",
    "id": "41xsAUf_3F1r",
    "outputId": "57c61c2c-83ee-4e09-a297-49f987cde3e4"
   },
   "outputs": [
    {
     "data": {
      "image/png": "[encoded data removed]",
      "text/plain": [
       "<Figure size 432x288 with 1 Axes>"
      ]
     },
     "metadata": {
      "tags": []
     },
     "output_type": "display_data"
    }
   ],
   "source": [
    "loss_values = history_dict['loss']\n",
    "val_loss_values = history_dict['val_loss']\n",
    "\n",
    "epochs = range(1, EPOCHS+1)\n",
    "\n",
    "plt.plot(epochs, loss_values, 'bo', label=\"Training Loss\")\n",
    "plt.plot(epochs, val_loss_values, 'b', label=\"Validation loss\")\n",
    "plt.title('Training and Validation loss')\n",
    "plt.xlabel('Epochs')\n",
    "plt.ylabel('Loss')\n",
    "plt.legend()\n",
    "\n",
    "plt.show()"
   ]
  },
  {
   "cell_type": "code",
   "execution_count": 0,
   "metadata": {
    "colab": {
     "base_uri": "https://localhost:8080/",
     "height": 295
    },
    "colab_type": "code",
    "id": "-GlWzZbL3tcC",
    "outputId": "b021225a-fbfa-410f-ee7d-f505c50b7a4f"
   },
   "outputs": [
    {
     "data": {
      "image/png": "[encoded data removed]",
      "text/plain": [
       "<Figure size 432x288 with 1 Axes>"
      ]
     },
     "metadata": {
      "tags": []
     },
     "output_type": "display_data"
    }
   ],
   "source": [
    "acc_values = history_dict['binary_accuracy']\n",
    "val_acc_values = history_dict['val_binary_accuracy']\n",
    "\n",
    "plt.plot(epochs, acc_values, 'bo', label=\"Training acc\")\n",
    "plt.plot(epochs, val_acc_values, 'b', label=\"Validation acc\")\n",
    "plt.title('Training and Validation Accuracy')\n",
    "plt.xlabel('Epochs')\n",
    "plt.ylabel('Accuracy')\n",
    "plt.legend()\n",
    "\n",
    "plt.show()"
   ]
  },
  {
   "cell_type": "code",
   "execution_count": 0,
   "metadata": {
    "colab": {
     "base_uri": "https://localhost:8080/",
     "height": 254
    },
    "colab_type": "code",
    "id": "YaEwM0cG5Vpu",
    "outputId": "30843148-8a69-40ce-f7b8-d882ad2defae"
   },
   "outputs": [
    {
     "name": "stdout",
     "output_type": "stream",
     "text": [
      "_________________________________________________________________\n",
      "Layer (type)                 Output Shape              Param #   \n",
      "=================================================================\n",
      "dense_75 (Dense)             (None, 16)                160016    \n",
      "_________________________________________________________________\n",
      "dense_76 (Dense)             (None, 16)                272       \n",
      "_________________________________________________________________\n",
      "dense_77 (Dense)             (None, 1)                 17        \n",
      "=================================================================\n",
      "Total params: 160,305\n",
      "Trainable params: 160,305\n",
      "Non-trainable params: 0\n",
      "_________________________________________________________________\n"
     ]
    }
   ],
   "source": [
    "model2 = models.Sequential()\n",
    "model2.add(layers.Dense(16, activation='relu', input_shape=(10000,)))\n",
    "model2.add(layers.Dense(16, activation='relu'))\n",
    "model2.add(layers.Dense(1, activation='sigmoid'))\n",
    "model2.compile(optimizer=optimizers.RMSprop(lr=0.001),\n",
    "              loss=losses.binary_crossentropy,\n",
    "              metrics=[metrics.binary_accuracy])\n",
    "model2.summary()"
   ]
  },
  {
   "cell_type": "code",
   "execution_count": 0,
   "metadata": {
    "colab": {
     "base_uri": "https://localhost:8080/",
     "height": 181
    },
    "colab_type": "code",
    "id": "kCOzGvRE69Ei",
    "outputId": "cc076e99-b042-46ad-c7d2-dda6260825b8"
   },
   "outputs": [
    {
     "name": "stdout",
     "output_type": "stream",
     "text": [
      "Train on 15000 samples, validate on 10000 samples\n",
      "Epoch 1/4\n",
      "15000/15000 [==============================] - 3s 215us/step - loss: 0.5341 - binary_accuracy: 0.7896 - val_loss: 0.4088 - val_binary_accuracy: 0.8686\n",
      "Epoch 2/4\n",
      "15000/15000 [==============================] - 2s 148us/step - loss: 0.3276 - binary_accuracy: 0.8988 - val_loss: 0.3164 - val_binary_accuracy: 0.8845\n",
      "Epoch 3/4\n",
      "15000/15000 [==============================] - 2s 147us/step - loss: 0.2369 - binary_accuracy: 0.9245 - val_loss: 0.2832 - val_binary_accuracy: 0.8894\n",
      "Epoch 4/4\n",
      "15000/15000 [==============================] - 2s 146us/step - loss: 0.1876 - binary_accuracy: 0.9388 - val_loss: 0.2861 - val_binary_accuracy: 0.8839\n"
     ]
    }
   ],
   "source": [
    "EPOCHS2 = 4\n",
    "history = model2.fit(partial_x_train,\n",
    "                    partial_y_train,\n",
    "                    epochs=EPOCHS2,\n",
    "                    batch_size=512,\n",
    "                    validation_data=(x_val, y_val))"
   ]
  },
  {
   "cell_type": "code",
   "execution_count": 0,
   "metadata": {
    "colab": {
     "base_uri": "https://localhost:8080/",
     "height": 54
    },
    "colab_type": "code",
    "id": "zeS7XTzD7DS8",
    "outputId": "21cda521-9271-4445-8627-59550d651564"
   },
   "outputs": [
    {
     "name": "stdout",
     "output_type": "stream",
     "text": [
      "25000/25000 [==============================] - 2s 81us/step\n",
      "Results(2):  [0.3011617387199402, 0.87704]\n"
     ]
    }
   ],
   "source": [
    "results2 = model2.evaluate(x_test, y_test)\n",
    "print(\"Results(2): \", results2)"
   ]
  },
  {
   "cell_type": "code",
   "execution_count": 0,
   "metadata": {
    "colab": {
     "base_uri": "https://localhost:8080/",
     "height": 145
    },
    "colab_type": "code",
    "id": "FT3hUlOV7T3z",
    "outputId": "62444c79-ee97-4c1a-c5ce-7ae0b063ab32"
   },
   "outputs": [
    {
     "data": {
      "text/plain": [
       "array([[0.33981472],\n",
       "       [0.9996284 ],\n",
       "       [0.9350536 ],\n",
       "       ...,\n",
       "       [0.14490548],\n",
       "       [0.18981212],\n",
       "       [0.6441573 ]], dtype=float32)"
      ]
     },
     "execution_count": 159,
     "metadata": {
      "tags": []
     },
     "output_type": "execute_result"
    }
   ],
   "source": [
    "model2.predict(x_test)"
   ]
  },
  {
   "cell_type": "markdown",
   "metadata": {
    "colab_type": "text",
    "id": "T2PfXBj47wXc"
   },
   "source": [
    "## Experimentation\n",
    "\n",
    "1. Add one more layer (from 2 hidden layers to **three hidden layers**)"
   ]
  },
  {
   "cell_type": "code",
   "execution_count": 0,
   "metadata": {
    "colab": {},
    "colab_type": "code",
    "id": "TTeq4_567hAX"
   },
   "outputs": [],
   "source": [
    "model3 = models.Sequential()\n",
    "model3.add(layers.Dense(16, activation='relu', input_shape=(10000,)))\n",
    "model3.add(layers.Dense(16, activation='relu'))\n",
    "model3.add(layers.Dense(16, activation='relu'))\n",
    "model3.add(layers.Dense(1, activation='sigmoid'))\n",
    "model3.compile(optimizer=optimizers.RMSprop(lr=0.001),\n",
    "              loss=losses.binary_crossentropy,\n",
    "              metrics=[metrics.binary_accuracy])"
   ]
  },
  {
   "cell_type": "code",
   "execution_count": 0,
   "metadata": {
    "colab": {
     "base_uri": "https://localhost:8080/",
     "height": 217
    },
    "colab_type": "code",
    "id": "BN16S2RD8Hf7",
    "outputId": "85d5ead5-ec94-4119-d5fb-6afc995beaa6"
   },
   "outputs": [
    {
     "name": "stdout",
     "output_type": "stream",
     "text": [
      "Train on 15000 samples, validate on 10000 samples\n",
      "Epoch 1/5\n",
      "15000/15000 [==============================] - 4s 247us/step - loss: 0.5336 - binary_accuracy: 0.7659 - val_loss: 0.3932 - val_binary_accuracy: 0.8623\n",
      "Epoch 2/5\n",
      "15000/15000 [==============================] - 2s 148us/step - loss: 0.3080 - binary_accuracy: 0.8985 - val_loss: 0.3130 - val_binary_accuracy: 0.8779\n",
      "Epoch 3/5\n",
      "15000/15000 [==============================] - 2s 148us/step - loss: 0.2197 - binary_accuracy: 0.9259 - val_loss: 0.2832 - val_binary_accuracy: 0.8864\n",
      "Epoch 4/5\n",
      "15000/15000 [==============================] - 2s 149us/step - loss: 0.1683 - binary_accuracy: 0.9431 - val_loss: 0.3007 - val_binary_accuracy: 0.8810\n",
      "Epoch 5/5\n",
      "15000/15000 [==============================] - 2s 150us/step - loss: 0.1359 - binary_accuracy: 0.9538 - val_loss: 0.3018 - val_binary_accuracy: 0.8810\n"
     ]
    }
   ],
   "source": [
    "EPOCHS = 5\n",
    "history = model3.fit(partial_x_train,\n",
    "                    partial_y_train,\n",
    "                    epochs=EPOCHS,\n",
    "                    batch_size=512,\n",
    "                    validation_data=(x_val, y_val))"
   ]
  },
  {
   "cell_type": "code",
   "execution_count": 0,
   "metadata": {
    "colab": {
     "base_uri": "https://localhost:8080/",
     "height": 54
    },
    "colab_type": "code",
    "id": "9BB2aXjj8QXU",
    "outputId": "6efc4a50-8786-4432-c0f8-8ad14cd0c756"
   },
   "outputs": [
    {
     "name": "stdout",
     "output_type": "stream",
     "text": [
      "25000/25000 [==============================] - 2s 91us/step\n",
      "Results(3):  [0.32953017110824584, 0.87204]\n"
     ]
    }
   ],
   "source": [
    "results3 = model3.evaluate(x_test, y_test)\n",
    "print(\"Results(3): \", results3)"
   ]
  },
  {
   "cell_type": "markdown",
   "metadata": {
    "colab_type": "text",
    "id": "UlZmVdjk8l37"
   },
   "source": [
    "## Experimentation\n",
    "\n",
    "2. Change the number of neurons in hidden layers."
   ]
  },
  {
   "cell_type": "code",
   "execution_count": 0,
   "metadata": {
    "colab": {},
    "colab_type": "code",
    "id": "qoN9CaWt84W9"
   },
   "outputs": [],
   "source": [
    "model4 = models.Sequential()\n",
    "model4.add(layers.Dense(128, activation='relu', input_shape=(10000,)))\n",
    "model4.add(layers.Dense(64, activation='relu'))\n",
    "model4.add(layers.Dense(1, activation='sigmoid'))\n",
    "model4.compile(optimizer=optimizers.RMSprop(lr=0.001),\n",
    "              loss=losses.binary_crossentropy,\n",
    "              metrics=[metrics.binary_accuracy])"
   ]
  },
  {
   "cell_type": "code",
   "execution_count": 0,
   "metadata": {
    "colab": {
     "base_uri": "https://localhost:8080/",
     "height": 217
    },
    "colab_type": "code",
    "id": "MepTegGY9N8y",
    "outputId": "7cde9c34-4d4f-4316-a348-e479ca34e9bd"
   },
   "outputs": [
    {
     "name": "stdout",
     "output_type": "stream",
     "text": [
      "Train on 15000 samples, validate on 10000 samples\n",
      "Epoch 1/5\n",
      "15000/15000 [==============================] - 5s 344us/step - loss: 0.4935 - binary_accuracy: 0.7563 - val_loss: 0.3177 - val_binary_accuracy: 0.8800\n",
      "Epoch 2/5\n",
      "15000/15000 [==============================] - 4s 263us/step - loss: 0.2559 - binary_accuracy: 0.9040 - val_loss: 0.3946 - val_binary_accuracy: 0.8383\n",
      "Epoch 3/5\n",
      "15000/15000 [==============================] - 4s 258us/step - loss: 0.1878 - binary_accuracy: 0.9291 - val_loss: 0.3419 - val_binary_accuracy: 0.8696\n",
      "Epoch 4/5\n",
      "15000/15000 [==============================] - 4s 256us/step - loss: 0.1325 - binary_accuracy: 0.9519 - val_loss: 0.3292 - val_binary_accuracy: 0.8776\n",
      "Epoch 5/5\n",
      "15000/15000 [==============================] - 4s 257us/step - loss: 0.1041 - binary_accuracy: 0.9626 - val_loss: 0.3300 - val_binary_accuracy: 0.8842\n"
     ]
    }
   ],
   "source": [
    "history = model4.fit(partial_x_train,\n",
    "                    partial_y_train,\n",
    "                    epochs=EPOCHS,\n",
    "                    batch_size=512,\n",
    "                    validation_data=(x_val, y_val))"
   ]
  },
  {
   "cell_type": "code",
   "execution_count": 0,
   "metadata": {
    "colab": {
     "base_uri": "https://localhost:8080/",
     "height": 54
    },
    "colab_type": "code",
    "id": "P2c0sz079hyt",
    "outputId": "847010ec-85b2-4f47-f783-7aa2ed82eece"
   },
   "outputs": [
    {
     "name": "stdout",
     "output_type": "stream",
     "text": [
      "25000/25000 [==============================] - 3s 140us/step\n",
      "Results(4):  [0.3542418965578079, 0.87444]\n"
     ]
    }
   ],
   "source": [
    "results4 = model4.evaluate(x_test, y_test)\n",
    "print(\"Results(4): \", results4)"
   ]
  },
  {
   "cell_type": "code",
   "execution_count": 0,
   "metadata": {
    "colab": {},
    "colab_type": "code",
    "id": "5FQX1J7I93a4"
   },
   "outputs": [],
   "source": [
    "model5 = models.Sequential()\n",
    "model5.add(layers.Dense(128, activation='relu', input_shape=(10000,)))\n",
    "model5.add(layers.Dense(64, activation='relu'))\n",
    "model5.add(layers.Dense(1, activation='sigmoid'))\n",
    "model5.compile(optimizer=optimizers.RMSprop(lr=0.001),\n",
    "              loss=losses.mse,\n",
    "              metrics=[metrics.binary_accuracy])"
   ]
  },
  {
   "cell_type": "code",
   "execution_count": 0,
   "metadata": {
    "colab": {
     "base_uri": "https://localhost:8080/",
     "height": 217
    },
    "colab_type": "code",
    "id": "IBto6fff-xgO",
    "outputId": "26b4b524-d0c5-44e1-be17-70aff2fecf58"
   },
   "outputs": [
    {
     "name": "stdout",
     "output_type": "stream",
     "text": [
      "Train on 15000 samples, validate on 10000 samples\n",
      "Epoch 1/5\n",
      "15000/15000 [==============================] - 5s 348us/step - loss: 0.1577 - binary_accuracy: 0.7649 - val_loss: 0.1465 - val_binary_accuracy: 0.7909\n",
      "Epoch 2/5\n",
      "15000/15000 [==============================] - 4s 262us/step - loss: 0.0752 - binary_accuracy: 0.9029 - val_loss: 0.0825 - val_binary_accuracy: 0.8905\n",
      "Epoch 3/5\n",
      "15000/15000 [==============================] - 4s 262us/step - loss: 0.0519 - binary_accuracy: 0.9351 - val_loss: 0.0832 - val_binary_accuracy: 0.8859\n",
      "Epoch 4/5\n",
      "15000/15000 [==============================] - 4s 265us/step - loss: 0.0371 - binary_accuracy: 0.9543 - val_loss: 0.1045 - val_binary_accuracy: 0.8623\n",
      "Epoch 5/5\n",
      "15000/15000 [==============================] - 4s 263us/step - loss: 0.0265 - binary_accuracy: 0.9695 - val_loss: 0.0870 - val_binary_accuracy: 0.8851\n"
     ]
    }
   ],
   "source": [
    "history = model5.fit(partial_x_train,\n",
    "                    partial_y_train,\n",
    "                    epochs=EPOCHS,\n",
    "                    batch_size=512,\n",
    "                    validation_data=(x_val, y_val))"
   ]
  },
  {
   "cell_type": "code",
   "execution_count": 0,
   "metadata": {
    "colab": {
     "base_uri": "https://localhost:8080/",
     "height": 54
    },
    "colab_type": "code",
    "id": "4pkcSbq4-32Q",
    "outputId": "b3b68d1e-a3b2-46f9-f5bb-7891e4c8f6e6"
   },
   "outputs": [
    {
     "name": "stdout",
     "output_type": "stream",
     "text": [
      "25000/25000 [==============================] - 4s 146us/step\n",
      "Results(5):  [0.09286563772797585, 0.87624]\n"
     ]
    }
   ],
   "source": [
    "results5 = model5.evaluate(x_test, y_test)\n",
    "print(\"Results(5): \", results5)"
   ]
  },
  {
   "cell_type": "code",
   "execution_count": 0,
   "metadata": {
    "colab": {},
    "colab_type": "code",
    "id": "ApA0uULJ_CR3"
   },
   "outputs": [],
   "source": [
    "model6 = models.Sequential()\n",
    "model6.add(layers.Dense(128, activation='tanh', input_shape=(10000,)))\n",
    "model6.add(layers.Dense(64, activation='tanh'))\n",
    "model6.add(layers.Dense(1, activation='sigmoid'))\n",
    "model6.compile(optimizer=optimizers.RMSprop(lr=0.001),\n",
    "              loss=losses.mse,\n",
    "              metrics=[metrics.binary_accuracy])"
   ]
  },
  {
   "cell_type": "code",
   "execution_count": 0,
   "metadata": {
    "colab": {
     "base_uri": "https://localhost:8080/",
     "height": 217
    },
    "colab_type": "code",
    "id": "mywBjGFd_VyI",
    "outputId": "c8e50fda-062e-40b8-e766-d2bb0448c4d0"
   },
   "outputs": [
    {
     "name": "stdout",
     "output_type": "stream",
     "text": [
      "Train on 15000 samples, validate on 10000 samples\n",
      "Epoch 1/5\n",
      "15000/15000 [==============================] - 5s 342us/step - loss: 0.1559 - binary_accuracy: 0.7725 - val_loss: 0.0904 - val_binary_accuracy: 0.8801\n",
      "Epoch 2/5\n",
      "15000/15000 [==============================] - 4s 254us/step - loss: 0.0728 - binary_accuracy: 0.9034 - val_loss: 0.0972 - val_binary_accuracy: 0.8684\n",
      "Epoch 3/5\n",
      "15000/15000 [==============================] - 4s 251us/step - loss: 0.0518 - binary_accuracy: 0.9328 - val_loss: 0.0860 - val_binary_accuracy: 0.8854\n",
      "Epoch 4/5\n",
      "15000/15000 [==============================] - 4s 247us/step - loss: 0.0455 - binary_accuracy: 0.9417 - val_loss: 0.0895 - val_binary_accuracy: 0.8843\n",
      "Epoch 5/5\n",
      "15000/15000 [==============================] - 4s 250us/step - loss: 0.0304 - binary_accuracy: 0.9623 - val_loss: 0.0957 - val_binary_accuracy: 0.8796\n"
     ]
    }
   ],
   "source": [
    "history = model6.fit(partial_x_train,\n",
    "                    partial_y_train,\n",
    "                    epochs=EPOCHS,\n",
    "                    batch_size=512,\n",
    "                    validation_data=(x_val, y_val))"
   ]
  },
  {
   "cell_type": "code",
   "execution_count": 0,
   "metadata": {
    "colab": {
     "base_uri": "https://localhost:8080/",
     "height": 54
    },
    "colab_type": "code",
    "id": "kbFtOvu6_Xme",
    "outputId": "e8acaff7-4204-4b0e-d27a-c1953073e95c"
   },
   "outputs": [
    {
     "name": "stdout",
     "output_type": "stream",
     "text": [
      "25000/25000 [==============================] - 4s 141us/step\n",
      "Results(6):  [0.10414581754684449, 0.8686]\n"
     ]
    }
   ],
   "source": [
    "results6 = model6.evaluate(x_test, y_test)\n",
    "print(\"Results(6): \", results6)"
   ]
  },
  {
   "cell_type": "code",
   "execution_count": 0,
   "metadata": {
    "colab": {},
    "colab_type": "code",
    "id": "uYc3KUsOACvo"
   },
   "outputs": [],
   "source": []
  }
 ],
 "metadata": {
  "colab": {
   "collapsed_sections": [],
   "name": "DeepLearningWithPython_Chapter3.ipynb",
   "provenance": [],
   "version": "0.3.2"
  },
  "kernelspec": {
   "display_name": "Python 3",
   "language": "python",
   "name": "python3"
  },
  "language_info": {
   "codemirror_mode": {
    "name": "ipython",
    "version": 3
   },
   "file_extension": ".py",
   "mimetype": "text/x-python",
   "name": "python",
   "nbconvert_exporter": "python",
   "pygments_lexer": "ipython3",
   "version": "3.6.8"
  }
 },
 "nbformat": 4,
 "nbformat_minor": 1
}
