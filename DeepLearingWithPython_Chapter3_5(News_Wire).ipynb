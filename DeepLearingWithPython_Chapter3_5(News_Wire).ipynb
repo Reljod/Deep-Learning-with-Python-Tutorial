{
 "cells": [
  {
   "cell_type": "markdown",
   "metadata": {
    "colab_type": "text",
    "id": "rJACeOWrC2Af"
   },
   "source": [
    "# Classifying newswire: a multiclass classification example\n",
    "## Reuters Dataset"
   ]
  },
  {
   "cell_type": "code",
   "execution_count": 0,
   "metadata": {
    "colab": {},
    "colab_type": "code",
    "id": "PypUqBNeDCR9"
   },
   "outputs": [],
   "source": [
    "from keras.datasets import reuters"
   ]
  },
  {
   "cell_type": "code",
   "execution_count": 0,
   "metadata": {
    "colab": {},
    "colab_type": "code",
    "id": "4n30LI-GDN6f"
   },
   "outputs": [],
   "source": [
    "(train_data, train_labels), (test_data, test_labels) = reuters.load_data(num_words=10000)"
   ]
  },
  {
   "cell_type": "code",
   "execution_count": 0,
   "metadata": {
    "colab": {
     "base_uri": "https://localhost:8080/",
     "height": 72
    },
    "colab_type": "code",
    "id": "sACOR5W9Dbig",
    "outputId": "4d2e93bc-f95b-49a6-9176-2cd045f966a1"
   },
   "outputs": [
    {
     "name": "stdout",
     "output_type": "stream",
     "text": [
      "Length of train data:  8982\n",
      "Length of test data:  2246\n",
      "Sample of train data (10):  [1, 245, 273, 207, 156, 53, 74, 160, 26, 14, 46, 296, 26, 39, 74, 2979, 3554, 14, 46, 4689, 4329, 86, 61, 3499, 4795, 14, 61, 451, 4329, 17, 12]\n"
     ]
    }
   ],
   "source": [
    "print(\"Length of train data: \", len(train_data))\n",
    "print(\"Length of test data: \", len(test_data))\n",
    "print(\"Sample of train data (10): \", train_data[10])"
   ]
  },
  {
   "cell_type": "code",
   "execution_count": 0,
   "metadata": {
    "colab": {
     "base_uri": "https://localhost:8080/",
     "height": 54
    },
    "colab_type": "code",
    "id": "Y4m5avKMD7CK",
    "outputId": "a59fbd37-eecb-4bfa-bc96-60c3837a36ad"
   },
   "outputs": [
    {
     "name": "stdout",
     "output_type": "stream",
     "text": [
      "Decoded newswire of sample (10):  ? period ended december 31 shr profit 11 cts vs loss 24 cts net profit 224 271 vs loss 511 349 revs 7 258 688 vs 7 200 349 reuter 3\n",
      "Label of sample (10):  3\n"
     ]
    }
   ],
   "source": [
    "word_index = reuters.get_word_index()\n",
    "reverse_word_index = dict([(value, key) for (key, value) in word_index.items()])\n",
    "decoded_newswire = ' '.join([reverse_word_index.get(i - 3, '?') for i in train_data[10]])\n",
    "print(\"Decoded newswire of sample (10): \", decoded_newswire)\n",
    "print(\"Label of sample (10): \", train_labels[10])"
   ]
  },
  {
   "cell_type": "code",
   "execution_count": 0,
   "metadata": {
    "colab": {},
    "colab_type": "code",
    "id": "jd9l3cJ2E5pH"
   },
   "outputs": [],
   "source": [
    "import numpy as np"
   ]
  },
  {
   "cell_type": "code",
   "execution_count": 0,
   "metadata": {
    "colab": {},
    "colab_type": "code",
    "id": "g0cM3AwIFEzh"
   },
   "outputs": [],
   "source": [
    "def vectorize_sequences(sequences, dimension=10000):\n",
    "  results = np.zeros((len(sequences), dimension))\n",
    "  for i, sequence in enumerate(sequences):\n",
    "    results[i, sequence] = 1.\n",
    "  return results"
   ]
  },
  {
   "cell_type": "code",
   "execution_count": 0,
   "metadata": {
    "colab": {},
    "colab_type": "code",
    "id": "YyKDvbSrFIzG"
   },
   "outputs": [],
   "source": [
    "x_train = vectorize_sequences(train_data)\n",
    "x_test = vectorize_sequences(test_data)"
   ]
  },
  {
   "cell_type": "code",
   "execution_count": 0,
   "metadata": {
    "colab": {},
    "colab_type": "code",
    "id": "rV5kvftwFSO-"
   },
   "outputs": [],
   "source": [
    "def to_one_hot(labels, dimension=46):\n",
    "  results = np.zeros((len(labels), dimension))\n",
    "  for i, label in enumerate(labels):\n",
    "    results[i, label] = 1.\n",
    "  return results"
   ]
  },
  {
   "cell_type": "code",
   "execution_count": 0,
   "metadata": {
    "colab": {},
    "colab_type": "code",
    "id": "xLRRbYtiFbdL"
   },
   "outputs": [],
   "source": [
    "one_hot_train_labels1 = to_one_hot(train_labels)\n",
    "one_hot_test_labels1 = to_one_hot(test_labels)"
   ]
  },
  {
   "cell_type": "code",
   "execution_count": 0,
   "metadata": {
    "colab": {},
    "colab_type": "code",
    "id": "Ac8s3Kf2FlN1"
   },
   "outputs": [],
   "source": [
    "# or you can just import this:\n",
    "from keras.utils.np_utils import to_categorical\n",
    "one_hot_train_labels = to_categorical(train_labels)\n",
    "one_hot_test_labels = to_categorical(test_labels)\n",
    "assert(one_hot_train_labels1.all() == one_hot_train_labels.all()) # call error if not equal"
   ]
  },
  {
   "cell_type": "code",
   "execution_count": 0,
   "metadata": {
    "colab": {},
    "colab_type": "code",
    "id": "i_OP0eDyG2YM"
   },
   "outputs": [],
   "source": [
    "from keras import models, layers, optimizers, losses, metrics"
   ]
  },
  {
   "cell_type": "code",
   "execution_count": 0,
   "metadata": {
    "colab": {
     "base_uri": "https://localhost:8080/",
     "height": 254
    },
    "colab_type": "code",
    "id": "3b77dEL8FvE_",
    "outputId": "b11568e5-3fad-44c2-8ec6-45653f0f7985"
   },
   "outputs": [
    {
     "name": "stdout",
     "output_type": "stream",
     "text": [
      "_________________________________________________________________\n",
      "Layer (type)                 Output Shape              Param #   \n",
      "=================================================================\n",
      "dense_7 (Dense)              (None, 64)                640064    \n",
      "_________________________________________________________________\n",
      "dense_8 (Dense)              (None, 64)                4160      \n",
      "_________________________________________________________________\n",
      "dense_9 (Dense)              (None, 46)                2990      \n",
      "=================================================================\n",
      "Total params: 647,214\n",
      "Trainable params: 647,214\n",
      "Non-trainable params: 0\n",
      "_________________________________________________________________\n"
     ]
    }
   ],
   "source": [
    "model = models.Sequential()\n",
    "model.add(layers.Dense(64, activation='relu', input_shape=(10000,)))\n",
    "model.add(layers.Dense(64, activation='relu'))\n",
    "model.add(layers.Dense(46, activation='softmax'))\n",
    "model.compile(optimizer=optimizers.RMSprop(lr=0.001),\n",
    "              loss=losses.categorical_crossentropy,\n",
    "              metrics=[metrics.categorical_accuracy])\n",
    "\n",
    "model.summary()"
   ]
  },
  {
   "cell_type": "code",
   "execution_count": 0,
   "metadata": {
    "colab": {},
    "colab_type": "code",
    "id": "OMHNmU1EHMP6"
   },
   "outputs": [],
   "source": [
    "x_val = x_train[:1000]\n",
    "partial_x_train = x_train[1000:]\n",
    "\n",
    "y_val = one_hot_train_labels[:1000]\n",
    "partial_y_train = one_hot_train_labels[1000:]"
   ]
  },
  {
   "cell_type": "code",
   "execution_count": 0,
   "metadata": {
    "colab": {},
    "colab_type": "code",
    "id": "wwDY4BVrIMUK"
   },
   "outputs": [],
   "source": [
    "EPOCHS = 20"
   ]
  },
  {
   "cell_type": "code",
   "execution_count": 0,
   "metadata": {
    "colab": {
     "base_uri": "https://localhost:8080/",
     "height": 874
    },
    "colab_type": "code",
    "id": "DlNFaUC9IOWO",
    "outputId": "684f3af8-474c-4e96-8102-dfc32913ed2d"
   },
   "outputs": [
    {
     "name": "stderr",
     "output_type": "stream",
     "text": [
      "W0819 13:47:40.853844 139766682011520 deprecation.py:323] From /usr/local/lib/python3.6/dist-packages/tensorflow/python/ops/math_grad.py:1250: add_dispatch_support.<locals>.wrapper (from tensorflow.python.ops.array_ops) is deprecated and will be removed in a future version.\n",
      "Instructions for updating:\n",
      "Use tf.where in 2.0, which has the same broadcast rule as np.where\n",
      "W0819 13:47:41.144804 139766682011520 deprecation_wrapper.py:119] From /usr/local/lib/python3.6/dist-packages/keras/backend/tensorflow_backend.py:986: The name tf.assign_add is deprecated. Please use tf.compat.v1.assign_add instead.\n",
      "\n"
     ]
    },
    {
     "name": "stdout",
     "output_type": "stream",
     "text": [
      "Train on 7982 samples, validate on 1000 samples\n",
      "Epoch 1/20\n",
      "7982/7982 [==============================] - 2s 222us/step - loss: 2.6102 - categorical_accuracy: 0.5287 - val_loss: 1.6778 - val_categorical_accuracy: 0.6340\n",
      "Epoch 2/20\n",
      "7982/7982 [==============================] - 1s 169us/step - loss: 1.3994 - categorical_accuracy: 0.7035 - val_loss: 1.2831 - val_categorical_accuracy: 0.7150\n",
      "Epoch 3/20\n",
      "7982/7982 [==============================] - 1s 169us/step - loss: 1.0562 - categorical_accuracy: 0.7676 - val_loss: 1.1193 - val_categorical_accuracy: 0.7550\n",
      "Epoch 4/20\n",
      "7982/7982 [==============================] - 1s 167us/step - loss: 0.8303 - categorical_accuracy: 0.8211 - val_loss: 1.0192 - val_categorical_accuracy: 0.7890\n",
      "Epoch 5/20\n",
      "7982/7982 [==============================] - 1s 166us/step - loss: 0.6645 - categorical_accuracy: 0.8602 - val_loss: 0.9665 - val_categorical_accuracy: 0.8000\n",
      "Epoch 6/20\n",
      "7982/7982 [==============================] - 1s 165us/step - loss: 0.5311 - categorical_accuracy: 0.8916 - val_loss: 0.9177 - val_categorical_accuracy: 0.8150\n",
      "Epoch 7/20\n",
      "7982/7982 [==============================] - 1s 164us/step - loss: 0.4298 - categorical_accuracy: 0.9107 - val_loss: 0.9171 - val_categorical_accuracy: 0.8100\n",
      "Epoch 8/20\n",
      "7982/7982 [==============================] - 1s 166us/step - loss: 0.3475 - categorical_accuracy: 0.9255 - val_loss: 0.9157 - val_categorical_accuracy: 0.8080\n",
      "Epoch 9/20\n",
      "7982/7982 [==============================] - 1s 168us/step - loss: 0.2905 - categorical_accuracy: 0.9366 - val_loss: 0.9082 - val_categorical_accuracy: 0.8160\n",
      "Epoch 10/20\n",
      "7982/7982 [==============================] - 1s 167us/step - loss: 0.2432 - categorical_accuracy: 0.9446 - val_loss: 0.8955 - val_categorical_accuracy: 0.8240\n",
      "Epoch 11/20\n",
      "7982/7982 [==============================] - 1s 167us/step - loss: 0.2108 - categorical_accuracy: 0.9499 - val_loss: 0.9022 - val_categorical_accuracy: 0.8070\n",
      "Epoch 12/20\n",
      "7982/7982 [==============================] - 1s 168us/step - loss: 0.1838 - categorical_accuracy: 0.9524 - val_loss: 0.9146 - val_categorical_accuracy: 0.8090\n",
      "Epoch 13/20\n",
      "7982/7982 [==============================] - 1s 167us/step - loss: 0.1690 - categorical_accuracy: 0.9518 - val_loss: 0.9540 - val_categorical_accuracy: 0.8070\n",
      "Epoch 14/20\n",
      "7982/7982 [==============================] - 1s 167us/step - loss: 0.1540 - categorical_accuracy: 0.9540 - val_loss: 0.9422 - val_categorical_accuracy: 0.8130\n",
      "Epoch 15/20\n",
      "7982/7982 [==============================] - 1s 166us/step - loss: 0.1441 - categorical_accuracy: 0.9538 - val_loss: 0.9809 - val_categorical_accuracy: 0.8100\n",
      "Epoch 16/20\n",
      "7982/7982 [==============================] - 1s 165us/step - loss: 0.1313 - categorical_accuracy: 0.9577 - val_loss: 0.9612 - val_categorical_accuracy: 0.8150\n",
      "Epoch 17/20\n",
      "7982/7982 [==============================] - 1s 166us/step - loss: 0.1216 - categorical_accuracy: 0.9579 - val_loss: 1.0227 - val_categorical_accuracy: 0.8100\n",
      "Epoch 18/20\n",
      "7982/7982 [==============================] - 1s 168us/step - loss: 0.1227 - categorical_accuracy: 0.9563 - val_loss: 1.0151 - val_categorical_accuracy: 0.8020\n",
      "Epoch 19/20\n",
      "7982/7982 [==============================] - 1s 167us/step - loss: 0.1155 - categorical_accuracy: 0.9570 - val_loss: 1.0613 - val_categorical_accuracy: 0.8050\n",
      "Epoch 20/20\n",
      "7982/7982 [==============================] - 1s 166us/step - loss: 0.1128 - categorical_accuracy: 0.9583 - val_loss: 1.0503 - val_categorical_accuracy: 0.8040\n"
     ]
    }
   ],
   "source": [
    "history = model.fit(partial_x_train,\n",
    "                    partial_y_train,\n",
    "                    epochs=20,\n",
    "                    batch_size=512,\n",
    "                    validation_data=(x_val, y_val))"
   ]
  },
  {
   "cell_type": "code",
   "execution_count": 0,
   "metadata": {
    "colab": {},
    "colab_type": "code",
    "id": "B9vSZTPfIiUU"
   },
   "outputs": [],
   "source": [
    "import matplotlib.pyplot as plt"
   ]
  },
  {
   "cell_type": "code",
   "execution_count": 0,
   "metadata": {
    "colab": {
     "base_uri": "https://localhost:8080/",
     "height": 35
    },
    "colab_type": "code",
    "id": "cgbVK8_6I4VC",
    "outputId": "25bfbb2d-9c5f-422a-dd2a-10f902d9fde0"
   },
   "outputs": [
    {
     "name": "stdout",
     "output_type": "stream",
     "text": [
      "History Keys:  dict_keys(['val_loss', 'val_categorical_accuracy', 'loss', 'categorical_accuracy'])\n"
     ]
    }
   ],
   "source": [
    "history_dict = history.history\n",
    "print(\"History Keys: \", history_dict.keys())"
   ]
  },
  {
   "cell_type": "code",
   "execution_count": 0,
   "metadata": {
    "colab": {},
    "colab_type": "code",
    "id": "U5asjDSzI_zI"
   },
   "outputs": [],
   "source": [
    "training_loss = history_dict['loss']\n",
    "val_loss = history_dict['val_loss']\n",
    "training_acc = history_dict['categorical_accuracy']\n",
    "val_acc = history_dict['val_categorical_accuracy']\n",
    "epochs = range(1, len(training_loss) + 1)"
   ]
  },
  {
   "cell_type": "code",
   "execution_count": 0,
   "metadata": {
    "colab": {
     "base_uri": "https://localhost:8080/",
     "height": 295
    },
    "colab_type": "code",
    "id": "wN7pvDP8JxcX",
    "outputId": "de822fc0-42e3-48e0-9fe0-bdea5df52548"
   },
   "outputs": [
    {
     "data": {
      "image/png": "[encoded data removed]",
      "text/plain": [
       "<Figure size 432x288 with 1 Axes>"
      ]
     },
     "metadata": {
      "tags": []
     },
     "output_type": "display_data"
    }
   ],
   "source": [
    "plt.plot(epochs, training_loss, 'bo', label='Training loss')\n",
    "plt.plot(epochs, val_loss, 'b', label='Validation loss')\n",
    "plt.title('Training and validation loss')\n",
    "plt.xlabel('Epochs')\n",
    "plt.ylabel('Loss')\n",
    "plt.legend()\n",
    "plt.show()"
   ]
  },
  {
   "cell_type": "code",
   "execution_count": 0,
   "metadata": {
    "colab": {
     "base_uri": "https://localhost:8080/",
     "height": 295
    },
    "colab_type": "code",
    "id": "drdegBapJ6D6",
    "outputId": "caa71305-1fc3-4710-8975-4a077ac3ebf8"
   },
   "outputs": [
    {
     "data": {
      "image/png": "[encoded data removed]",
      "text/plain": [
       "<Figure size 432x288 with 1 Axes>"
      ]
     },
     "metadata": {
      "tags": []
     },
     "output_type": "display_data"
    }
   ],
   "source": [
    "plt.plot(epochs, training_acc, 'bo', label='Training accuracy')\n",
    "plt.plot(epochs, val_acc, 'b', label='Validation accuracy')\n",
    "plt.title('Training and validation accuracy')\n",
    "plt.xlabel('Epochs')\n",
    "plt.ylabel('Accuracy')\n",
    "plt.legend()\n",
    "plt.show()"
   ]
  },
  {
   "cell_type": "markdown",
   "metadata": {
    "colab_type": "text",
    "id": "jwVP79JlKGD2"
   },
   "source": [
    "The model starts to ***overfit*** at epoch 10, lets just train up to **9 epochs**"
   ]
  },
  {
   "cell_type": "code",
   "execution_count": 0,
   "metadata": {
    "colab": {
     "base_uri": "https://localhost:8080/",
     "height": 254
    },
    "colab_type": "code",
    "id": "lwhMFIYQKXL0",
    "outputId": "82ad11fd-b00f-435b-f686-74f9dca01ad9"
   },
   "outputs": [
    {
     "name": "stdout",
     "output_type": "stream",
     "text": [
      "_________________________________________________________________\n",
      "Layer (type)                 Output Shape              Param #   \n",
      "=================================================================\n",
      "dense_10 (Dense)             (None, 64)                640064    \n",
      "_________________________________________________________________\n",
      "dense_11 (Dense)             (None, 64)                4160      \n",
      "_________________________________________________________________\n",
      "dense_12 (Dense)             (None, 46)                2990      \n",
      "=================================================================\n",
      "Total params: 647,214\n",
      "Trainable params: 647,214\n",
      "Non-trainable params: 0\n",
      "_________________________________________________________________\n"
     ]
    }
   ],
   "source": [
    "model2 = models.Sequential()\n",
    "model2.add(layers.Dense(64, activation='relu', input_shape=(10000,)))\n",
    "model2.add(layers.Dense(64, activation='relu'))\n",
    "model2.add(layers.Dense(46, activation='softmax'))\n",
    "model2.compile(optimizer=optimizers.RMSprop(lr=0.001),\n",
    "              loss=losses.categorical_crossentropy,\n",
    "              metrics=[metrics.categorical_accuracy])\n",
    "\n",
    "model2.summary()"
   ]
  },
  {
   "cell_type": "code",
   "execution_count": 0,
   "metadata": {
    "colab": {},
    "colab_type": "code",
    "id": "H8Gi8q6sKf6y"
   },
   "outputs": [],
   "source": [
    "NEW_EPOCHS = 9"
   ]
  },
  {
   "cell_type": "code",
   "execution_count": 0,
   "metadata": {
    "colab": {
     "base_uri": "https://localhost:8080/",
     "height": 363
    },
    "colab_type": "code",
    "id": "63-dKXkcKk5t",
    "outputId": "9bd66b22-23a9-4b13-f8e1-300b7ad94fd0"
   },
   "outputs": [
    {
     "name": "stdout",
     "output_type": "stream",
     "text": [
      "Train on 7982 samples, validate on 1000 samples\n",
      "Epoch 1/9\n",
      "7982/7982 [==============================] - 2s 197us/step - loss: 2.5398 - categorical_accuracy: 0.5226 - val_loss: 1.6733 - val_categorical_accuracy: 0.6570\n",
      "Epoch 2/9\n",
      "7982/7982 [==============================] - 1s 159us/step - loss: 1.3712 - categorical_accuracy: 0.7121 - val_loss: 1.2758 - val_categorical_accuracy: 0.7210\n",
      "Epoch 3/9\n",
      "7982/7982 [==============================] - 1s 158us/step - loss: 1.0136 - categorical_accuracy: 0.7781 - val_loss: 1.1303 - val_categorical_accuracy: 0.7530\n",
      "Epoch 4/9\n",
      "7982/7982 [==============================] - 1s 158us/step - loss: 0.7976 - categorical_accuracy: 0.8251 - val_loss: 1.0539 - val_categorical_accuracy: 0.7590\n",
      "Epoch 5/9\n",
      "7982/7982 [==============================] - 1s 158us/step - loss: 0.6393 - categorical_accuracy: 0.8624 - val_loss: 0.9754 - val_categorical_accuracy: 0.7920\n",
      "Epoch 6/9\n",
      "7982/7982 [==============================] - 1s 156us/step - loss: 0.5124 - categorical_accuracy: 0.8921 - val_loss: 0.9102 - val_categorical_accuracy: 0.8140\n",
      "Epoch 7/9\n",
      "7982/7982 [==============================] - 1s 160us/step - loss: 0.4124 - categorical_accuracy: 0.9137 - val_loss: 0.8932 - val_categorical_accuracy: 0.8210\n",
      "Epoch 8/9\n",
      "7982/7982 [==============================] - 1s 161us/step - loss: 0.3355 - categorical_accuracy: 0.9290 - val_loss: 0.8732 - val_categorical_accuracy: 0.8260\n",
      "Epoch 9/9\n",
      "7982/7982 [==============================] - 1s 157us/step - loss: 0.2782 - categorical_accuracy: 0.9371 - val_loss: 0.9338 - val_categorical_accuracy: 0.8000\n"
     ]
    }
   ],
   "source": [
    "history = model2.fit(partial_x_train,\n",
    "                    partial_y_train,\n",
    "                    epochs=NEW_EPOCHS,\n",
    "                    batch_size=512,\n",
    "                    validation_data=(x_val, y_val))"
   ]
  },
  {
   "cell_type": "code",
   "execution_count": 0,
   "metadata": {
    "colab": {
     "base_uri": "https://localhost:8080/",
     "height": 54
    },
    "colab_type": "code",
    "id": "xR58-9B4KrwB",
    "outputId": "95ef0d73-c2b6-4015-f468-8e0d8bff1288"
   },
   "outputs": [
    {
     "name": "stdout",
     "output_type": "stream",
     "text": [
      "2246/2246 [==============================] - 0s 117us/step\n",
      "Results(2):  [1.0224983157160445, 0.7756010686194165]\n"
     ]
    }
   ],
   "source": [
    "results2 = model2.evaluate(x_test, one_hot_test_labels)\n",
    "print(\"Results(2): \", results2)"
   ]
  },
  {
   "cell_type": "code",
   "execution_count": 0,
   "metadata": {
    "colab": {},
    "colab_type": "code",
    "id": "c2BE36LpKzF-"
   },
   "outputs": [],
   "source": [
    "import copy"
   ]
  },
  {
   "cell_type": "code",
   "execution_count": 0,
   "metadata": {
    "colab": {
     "base_uri": "https://localhost:8080/",
     "height": 35
    },
    "colab_type": "code",
    "id": "70-pLNI6LEvZ",
    "outputId": "df63155c-b622-4563-8f79-87e11909224f"
   },
   "outputs": [
    {
     "data": {
      "text/plain": [
       "0.182546749777382"
      ]
     },
     "execution_count": 58,
     "metadata": {
      "tags": []
     },
     "output_type": "execute_result"
    }
   ],
   "source": [
    "test_labels_copy = copy.copy(test_labels)\n",
    "np.random.shuffle(test_labels_copy)\n",
    "hits_array = np.array(test_labels) == np.array(test_labels_copy)\n",
    "float(np.sum(hits_array)) / len(test_labels)"
   ]
  },
  {
   "cell_type": "code",
   "execution_count": 0,
   "metadata": {
    "colab": {},
    "colab_type": "code",
    "id": "Br1DsrnqLXLp"
   },
   "outputs": [],
   "source": [
    "predictions = model.predict(x_test)"
   ]
  },
  {
   "cell_type": "code",
   "execution_count": 0,
   "metadata": {
    "colab": {
     "base_uri": "https://localhost:8080/",
     "height": 72
    },
    "colab_type": "code",
    "id": "yYs1hj5xLeV1",
    "outputId": "213344fe-ab06-49c0-a89b-524468714c57"
   },
   "outputs": [
    {
     "name": "stdout",
     "output_type": "stream",
     "text": [
      "Prediction shape (0):  (46,)\n",
      "Sum of probability of prediction shape (0):  0.99999994\n",
      "Predicted class of sample 0:  3\n"
     ]
    }
   ],
   "source": [
    "print(\"Prediction shape (0): \", predictions[0].shape)\n",
    "print(\"Sum of probability of prediction shape (0): \", np.sum(predictions[0]))\n",
    "print(\"Predicted class of sample 0: \", np.argmax(predictions[0]))"
   ]
  },
  {
   "cell_type": "markdown",
   "metadata": {
    "colab_type": "text",
    "id": "k8SQs9ftLju3"
   },
   "source": [
    "## A different way to handle labels and loss\n",
    "When the labels are just integet, the loss should not be categorical_crossentropy but the **sparse_categorical_crossentropy**."
   ]
  },
  {
   "cell_type": "code",
   "execution_count": 0,
   "metadata": {
    "colab": {},
    "colab_type": "code",
    "id": "AevLXPsXMgmI"
   },
   "outputs": [],
   "source": [
    "y_train = np.array(train_labels)\n",
    "y_test = np.array(test_labels)\n",
    "\n",
    "y_val = y_train[:1000]\n",
    "partial_y_train = y_train[1000:]"
   ]
  },
  {
   "cell_type": "code",
   "execution_count": 0,
   "metadata": {
    "colab": {
     "base_uri": "https://localhost:8080/",
     "height": 254
    },
    "colab_type": "code",
    "id": "8FkqEoBQMRE_",
    "outputId": "f90ab663-5900-4013-a74f-081f8f183b73"
   },
   "outputs": [
    {
     "name": "stdout",
     "output_type": "stream",
     "text": [
      "_________________________________________________________________\n",
      "Layer (type)                 Output Shape              Param #   \n",
      "=================================================================\n",
      "dense_19 (Dense)             (None, 64)                640064    \n",
      "_________________________________________________________________\n",
      "dense_20 (Dense)             (None, 64)                4160      \n",
      "_________________________________________________________________\n",
      "dense_21 (Dense)             (None, 46)                2990      \n",
      "=================================================================\n",
      "Total params: 647,214\n",
      "Trainable params: 647,214\n",
      "Non-trainable params: 0\n",
      "_________________________________________________________________\n"
     ]
    }
   ],
   "source": [
    "model3 = models.Sequential()\n",
    "model3.add(layers.Dense(64, activation='relu', input_shape=(10000,)))\n",
    "model3.add(layers.Dense(64, activation='relu'))\n",
    "model3.add(layers.Dense(46, activation='softmax'))\n",
    "model3.compile(optimizer=optimizers.RMSprop(lr=0.001),\n",
    "              loss=losses.sparse_categorical_crossentropy,\n",
    "              metrics=['accuracy'])\n",
    "\n",
    "model3.summary()"
   ]
  },
  {
   "cell_type": "code",
   "execution_count": 0,
   "metadata": {
    "colab": {
     "base_uri": "https://localhost:8080/",
     "height": 363
    },
    "colab_type": "code",
    "id": "yZ_qNXDUNDA0",
    "outputId": "e2b84b80-bbea-46b3-d142-d9befd6ca882"
   },
   "outputs": [
    {
     "name": "stdout",
     "output_type": "stream",
     "text": [
      "Train on 7982 samples, validate on 1000 samples\n",
      "Epoch 1/9\n",
      "7982/7982 [==============================] - 2s 216us/step - loss: 2.5481 - acc: 0.5005 - val_loss: 1.6980 - val_acc: 0.6390\n",
      "Epoch 2/9\n",
      "7982/7982 [==============================] - 1s 157us/step - loss: 1.4038 - acc: 0.7040 - val_loss: 1.2912 - val_acc: 0.7050\n",
      "Epoch 3/9\n",
      "7982/7982 [==============================] - 1s 146us/step - loss: 1.0448 - acc: 0.7702 - val_loss: 1.1351 - val_acc: 0.7530\n",
      "Epoch 4/9\n",
      "7982/7982 [==============================] - 1s 145us/step - loss: 0.8224 - acc: 0.8226 - val_loss: 1.0312 - val_acc: 0.7800\n",
      "Epoch 5/9\n",
      "7982/7982 [==============================] - 1s 146us/step - loss: 0.6538 - acc: 0.8578 - val_loss: 0.9617 - val_acc: 0.7990\n",
      "Epoch 6/9\n",
      "7982/7982 [==============================] - 1s 152us/step - loss: 0.5193 - acc: 0.8939 - val_loss: 0.9233 - val_acc: 0.8000\n",
      "Epoch 7/9\n",
      "7982/7982 [==============================] - 1s 147us/step - loss: 0.4162 - acc: 0.9146 - val_loss: 0.9223 - val_acc: 0.7970\n",
      "Epoch 8/9\n",
      "7982/7982 [==============================] - 1s 147us/step - loss: 0.3358 - acc: 0.9295 - val_loss: 0.8868 - val_acc: 0.8140\n",
      "Epoch 9/9\n",
      "7982/7982 [==============================] - 1s 149us/step - loss: 0.2793 - acc: 0.9375 - val_loss: 0.9006 - val_acc: 0.8160\n"
     ]
    }
   ],
   "source": [
    "history3 = model3.fit(partial_x_train,\n",
    "                    partial_y_train,\n",
    "                    epochs=NEW_EPOCHS,\n",
    "                    batch_size=512,\n",
    "                    validation_data=(x_val, y_val))"
   ]
  },
  {
   "cell_type": "code",
   "execution_count": 0,
   "metadata": {
    "colab": {
     "base_uri": "https://localhost:8080/",
     "height": 54
    },
    "colab_type": "code",
    "id": "GhxuBZ7eNOTX",
    "outputId": "7287bcaf-6897-4299-8b60-ba3bb94f735d"
   },
   "outputs": [
    {
     "name": "stdout",
     "output_type": "stream",
     "text": [
      "2246/2246 [==============================] - 0s 129us/step\n",
      "Results3:  [0.9801060790370217, 0.7827248441674087]\n"
     ]
    }
   ],
   "source": [
    "results3 = model3.evaluate(x_test, y_test)\n",
    "print(\"Results3: \", results3)"
   ]
  },
  {
   "cell_type": "markdown",
   "metadata": {
    "colab_type": "text",
    "id": "bVevRn2DN1Ec"
   },
   "source": [
    "## Experiment\n",
    "\n",
    "1. Try using larger or smaller layer: 32 units, 128 units and so on."
   ]
  },
  {
   "cell_type": "code",
   "execution_count": 0,
   "metadata": {
    "colab": {},
    "colab_type": "code",
    "id": "WQmdlf6jOU4C"
   },
   "outputs": [],
   "source": []
  }
 ],
 "metadata": {
  "colab": {
   "collapsed_sections": [],
   "name": "DeepLearingWithPython_Chapter3.5",
   "provenance": [],
   "version": "0.3.2"
  },
  "kernelspec": {
   "display_name": "Python 3",
   "language": "python",
   "name": "python3"
  },
  "language_info": {
   "codemirror_mode": {
    "name": "ipython",
    "version": 3
   },
   "file_extension": ".py",
   "mimetype": "text/x-python",
   "name": "python",
   "nbconvert_exporter": "python",
   "pygments_lexer": "ipython3",
   "version": "3.6.8"
  }
 },
 "nbformat": 4,
 "nbformat_minor": 1
}
