{
 "cells": [
  {
   "cell_type": "markdown",
   "metadata": {},
   "source": [
    "# Dealing with Overfitting: Dropout\n",
    "\n",
    "We'll use Boston Housing dataset to see the effect of Dropout in our model"
   ]
  },
  {
   "cell_type": "code",
   "execution_count": 6,
   "metadata": {},
   "outputs": [],
   "source": [
    "from keras.datasets import boston_housing"
   ]
  },
  {
   "cell_type": "code",
   "execution_count": 7,
   "metadata": {},
   "outputs": [],
   "source": [
    "(train_data, train_targets), (test_data, test_targets) = boston_housing.load_data()"
   ]
  },
  {
   "cell_type": "code",
   "execution_count": 8,
   "metadata": {},
   "outputs": [],
   "source": [
    "# Using Feature-wise Normalization\n",
    "mean = train_data.mean(axis=0)\n",
    "train_data -= mean\n",
    "std = train_data.std(axis=0)\n",
    "train_data /= std\n",
    "\n",
    "test_data -= mean\n",
    "test_data /= std"
   ]
  },
  {
   "cell_type": "code",
   "execution_count": 9,
   "metadata": {},
   "outputs": [],
   "source": [
    "from keras import layers\n",
    "from keras import models"
   ]
  },
  {
   "cell_type": "code",
   "execution_count": 23,
   "metadata": {},
   "outputs": [],
   "source": [
    "def base_model():\n",
    "    base = models.Sequential()\n",
    "    base.add(layers.Dense(64, activation='relu', input_shape=(train_data.shape[1],)))\n",
    "    base.add(layers.Dense(64, activation='relu'))\n",
    "    base.add(layers.Dense(1))\n",
    "    base.compile(optimizer='rmsprop', loss='mse', metrics=['mae'])\n",
    "    return base\n",
    "\n",
    "def dropout_model(dropout):\n",
    "    drop = models.Sequential()\n",
    "    drop.add(layers.Dense(64, activation='relu', input_shape=(train_data.shape[1],)))\n",
    "    drop.add(layers.Dropout(dropout))\n",
    "    drop.add(layers.Dense(64, activation='relu'))\n",
    "    drop.add(layers.Dropout(dropout))\n",
    "    drop.add(layers.Dense(1))\n",
    "    drop.compile(optimizer='rmsprop', loss='mse', metrics=['mae'])\n",
    "    return drop"
   ]
  },
  {
   "cell_type": "code",
   "execution_count": 15,
   "metadata": {},
   "outputs": [],
   "source": [
    "import numpy as np"
   ]
  },
  {
   "cell_type": "code",
   "execution_count": 20,
   "metadata": {},
   "outputs": [],
   "source": [
    "k = 4\n",
    "num_val_samples = len(train_data) // k\n",
    "num_epochs = 200\n",
    "all_scores_base = []\n",
    "all_scores_dp1 = []\n",
    "all_scores_dp2 = []\n",
    "all_scores_dp3 = []\n",
    "histbase = []\n",
    "histdp1 = []\n",
    "histdp2 = []\n",
    "histdp3 = []"
   ]
  },
  {
   "cell_type": "code",
   "execution_count": 21,
   "metadata": {},
   "outputs": [
    {
     "name": "stdout",
     "output_type": "stream",
     "text": [
      "Using Base model\n",
      "Processing fold #0\n",
      "Processing fold #1\n",
      "Processing fold #2\n",
      "Processing fold #3\n"
     ]
    }
   ],
   "source": [
    "## Using Base model\n",
    "print(\"Using Base model\")\n",
    "for i in range(k):\n",
    "    print(f\"Processing fold #{i}\")\n",
    "    val_data = train_data[i*num_val_samples:(i+1)*num_val_samples]\n",
    "    val_targets = train_targets[i*num_val_samples:(i+1)*num_val_samples]\n",
    "    partial_train_data = np.concatenate([\n",
    "        train_data[:i*num_val_samples],\n",
    "        train_data[(i+1)*num_val_samples:]\n",
    "    ], axis=0)\n",
    "    partial_train_targets = np.concatenate([\n",
    "        train_targets[:i*num_val_samples],\n",
    "        train_targets[(i+1)*num_val_samples:]\n",
    "    ], axis=0)\n",
    "    base = base_model()\n",
    "    hist_base = base.fit(partial_train_data, partial_train_targets,\n",
    "             epochs=num_epochs, batch_size=1, verbose=0, validation_data=(val_data, val_targets))\n",
    "    \n",
    "#     val_mse, val_mae = base.evaluate(val_data, val_targets, verbose=0)\n",
    "#     all_scores_base.append(val_mae)\n",
    "    histbase.append(hist_base)"
   ]
  },
  {
   "cell_type": "code",
   "execution_count": 50,
   "metadata": {},
   "outputs": [
    {
     "name": "stdout",
     "output_type": "stream",
     "text": [
      "Using Dropout of 0.2\n",
      "Processing fold #0\n",
      "Processing fold #1\n",
      "Processing fold #2\n",
      "Processing fold #3\n"
     ]
    }
   ],
   "source": [
    "## Using Dropout of 0.2\n",
    "print(\"Using Dropout of 0.2\")\n",
    "for i in range(k):\n",
    "    print(f\"Processing fold #{i}\")\n",
    "    val_data = train_data[i*num_val_samples:(i+1)*num_val_samples]\n",
    "    val_targets = train_targets[i*num_val_samples:(i+1)*num_val_samples]\n",
    "    partial_train_data = np.concatenate([\n",
    "        train_data[:i*num_val_samples],\n",
    "        train_data[(i+1)*num_val_samples:]\n",
    "    ], axis=0)\n",
    "    partial_train_targets = np.concatenate([\n",
    "        train_targets[:i*num_val_samples],\n",
    "        train_targets[(i+1)*num_val_samples:]\n",
    "    ], axis=0)\n",
    "    drop1 = dropout_model(0.2)\n",
    "    hist_dp1 = drop1.fit(partial_train_data, partial_train_targets,\n",
    "             epochs=num_epochs, batch_size=1, verbose=0, validation_data=(val_data, val_targets))\n",
    "    \n",
    "#     val_mse, val_mae = drop1.evaluate(val_data, val_targets, verbose=0)\n",
    "#     all_scores_dp1.append(val_mae)\n",
    "    histdp1.append(hist_dp1)"
   ]
  },
  {
   "cell_type": "code",
   "execution_count": 51,
   "metadata": {},
   "outputs": [
    {
     "name": "stdout",
     "output_type": "stream",
     "text": [
      "Using Dropout of 0.5\n",
      "Processing fold #0\n",
      "Processing fold #1\n",
      "Processing fold #2\n",
      "Processing fold #3\n"
     ]
    }
   ],
   "source": [
    "## Using Dropout of 0.5\n",
    "print(\"Using Dropout of 0.5\")\n",
    "for i in range(k):\n",
    "    print(f\"Processing fold #{i}\")\n",
    "    val_data = train_data[i*num_val_samples:(i+1)*num_val_samples]\n",
    "    val_targets = train_targets[i*num_val_samples:(i+1)*num_val_samples]\n",
    "    partial_train_data = np.concatenate([\n",
    "        train_data[:i*num_val_samples],\n",
    "        train_data[(i+1)*num_val_samples:]\n",
    "    ], axis=0)\n",
    "    partial_train_targets = np.concatenate([\n",
    "        train_targets[:i*num_val_samples],\n",
    "        train_targets[(i+1)*num_val_samples:]\n",
    "    ], axis=0)\n",
    "    drop2 = dropout_model(0.5)\n",
    "    hist_dp2=drop2.fit(partial_train_data, partial_train_targets,\n",
    "             epochs=num_epochs, batch_size=1, verbose=0, validation_data=(val_data, val_targets))\n",
    "    \n",
    "#     val_mse, val_mae = drop2.evaluate(val_data, val_targets, verbose=0)\n",
    "#     all_scores_dp2.append(val_mae)\n",
    "    histdp2.append(hist_dp2)"
   ]
  },
  {
   "cell_type": "code",
   "execution_count": 52,
   "metadata": {},
   "outputs": [
    {
     "name": "stdout",
     "output_type": "stream",
     "text": [
      "Using Dropout of 0.8\n",
      "Processing fold #0\n",
      "Processing fold #1\n",
      "Processing fold #2\n",
      "Processing fold #3\n"
     ]
    }
   ],
   "source": [
    "## Using Dropout of 0.8\n",
    "print(\"Using Dropout of 0.8\")\n",
    "for i in range(k):\n",
    "    print(f\"Processing fold #{i}\")\n",
    "    val_data = train_data[i*num_val_samples:(i+1)*num_val_samples]\n",
    "    val_targets = train_targets[i*num_val_samples:(i+1)*num_val_samples]\n",
    "    partial_train_data = np.concatenate([\n",
    "        train_data[:i*num_val_samples],\n",
    "        train_data[(i+1)*num_val_samples:]\n",
    "    ], axis=0)\n",
    "    partial_train_targets = np.concatenate([\n",
    "        train_targets[:i*num_val_samples],\n",
    "        train_targets[(i+1)*num_val_samples:]\n",
    "    ], axis=0)\n",
    "    drop3 = dropout_model(0.8)\n",
    "    hist_dp3=drop3.fit(partial_train_data, partial_train_targets,\n",
    "             epochs=num_epochs, batch_size=1, verbose=0, validation_data=(val_data, val_targets))\n",
    "    \n",
    "#     val_mse, val_mae = drop3.evaluate(val_data, val_targets, verbose=0)\n",
    "#     all_scores_dp3.append(val_mae)\n",
    "    histdp3.append(hist_dp3)"
   ]
  },
  {
   "cell_type": "code",
   "execution_count": 53,
   "metadata": {},
   "outputs": [
    {
     "name": "stdout",
     "output_type": "stream",
     "text": [
      "All scores base:  [2.233460284695767, 3.1001296893204793, 2.5625649489978755, 2.3723219810145917]\n",
      "All scores base mean:  2.5671192260071782\n",
      "All scores dropout 0.2:  [1.9605656638003812, 2.085175308850732, 2.7937788337764173, 2.3428971861848735]\n",
      "All scores dropout 0.2 mean:  2.295604248153101\n",
      "All scores dropout 0.5:  [2.686643671281267, 2.4491220087108045, 2.7358158673390305, 2.8191304336680045]\n",
      "All scores dropout 0.5 mean:  2.6726779952497766\n",
      "All scores dropout 0.8:  [3.378339403926736, 3.7507787647813853, 3.561897084264472, 4.369218269197067]\n",
      "All scores dropout 0.8 mean:  3.765058380542415\n"
     ]
    }
   ],
   "source": [
    "all_scores_dp2 = all_scores_dp2[-4:]\n",
    "print(\"All scores base: \", all_scores_base)\n",
    "print(\"All scores base mean: \", np.mean(all_scores_base))\n",
    "print(\"All scores dropout 0.2: \", all_scores_dp1)\n",
    "print(\"All scores dropout 0.2 mean: \", np.mean(all_scores_dp1))\n",
    "print(\"All scores dropout 0.5: \", all_scores_dp2)\n",
    "print(\"All scores dropout 0.5 mean: \", np.mean(all_scores_dp2))\n",
    "print(\"All scores dropout 0.8: \", all_scores_dp3)\n",
    "print(\"All scores dropout 0.8 mean: \", np.mean(all_scores_dp3))"
   ]
  },
  {
   "cell_type": "code",
   "execution_count": 39,
   "metadata": {
    "scrolled": true
   },
   "outputs": [
    {
     "ename": "KeyError",
     "evalue": "'val_mean_absolute_error'",
     "output_type": "error",
     "traceback": [
      "\u001b[0;31m---------------------------------------------------------------------------\u001b[0m",
      "\u001b[0;31mKeyError\u001b[0m                                  Traceback (most recent call last)",
      "\u001b[0;32m<ipython-input-39-a4a80f5c50f0>\u001b[0m in \u001b[0;36m<module>\u001b[0;34m\u001b[0m\n\u001b[0;32m----> 1\u001b[0;31m \u001b[0maverage_mae_history_base\u001b[0m \u001b[0;34m=\u001b[0m \u001b[0;34m[\u001b[0m\u001b[0mnp\u001b[0m\u001b[0;34m.\u001b[0m\u001b[0mmean\u001b[0m\u001b[0;34m(\u001b[0m\u001b[0;34m[\u001b[0m\u001b[0mx\u001b[0m\u001b[0;34m[\u001b[0m\u001b[0mi\u001b[0m\u001b[0;34m]\u001b[0m \u001b[0;32mfor\u001b[0m \u001b[0mx\u001b[0m \u001b[0;32min\u001b[0m \u001b[0mhist_base\u001b[0m\u001b[0;34m.\u001b[0m\u001b[0mhistory\u001b[0m\u001b[0;34m[\u001b[0m\u001b[0;34m'val_mean_absolute_error'\u001b[0m\u001b[0;34m]\u001b[0m\u001b[0;34m]\u001b[0m\u001b[0;34m)\u001b[0m \u001b[0;32mfor\u001b[0m \u001b[0mi\u001b[0m \u001b[0;32min\u001b[0m \u001b[0mrange\u001b[0m\u001b[0;34m(\u001b[0m\u001b[0mnum_epochs\u001b[0m\u001b[0;34m)\u001b[0m\u001b[0;34m]\u001b[0m\u001b[0;34m\u001b[0m\u001b[0;34m\u001b[0m\u001b[0m\n\u001b[0m",
      "\u001b[0;32m<ipython-input-39-a4a80f5c50f0>\u001b[0m in \u001b[0;36m<listcomp>\u001b[0;34m(.0)\u001b[0m\n\u001b[0;32m----> 1\u001b[0;31m \u001b[0maverage_mae_history_base\u001b[0m \u001b[0;34m=\u001b[0m \u001b[0;34m[\u001b[0m\u001b[0mnp\u001b[0m\u001b[0;34m.\u001b[0m\u001b[0mmean\u001b[0m\u001b[0;34m(\u001b[0m\u001b[0;34m[\u001b[0m\u001b[0mx\u001b[0m\u001b[0;34m[\u001b[0m\u001b[0mi\u001b[0m\u001b[0;34m]\u001b[0m \u001b[0;32mfor\u001b[0m \u001b[0mx\u001b[0m \u001b[0;32min\u001b[0m \u001b[0mhist_base\u001b[0m\u001b[0;34m.\u001b[0m\u001b[0mhistory\u001b[0m\u001b[0;34m[\u001b[0m\u001b[0;34m'val_mean_absolute_error'\u001b[0m\u001b[0;34m]\u001b[0m\u001b[0;34m]\u001b[0m\u001b[0;34m)\u001b[0m \u001b[0;32mfor\u001b[0m \u001b[0mi\u001b[0m \u001b[0;32min\u001b[0m \u001b[0mrange\u001b[0m\u001b[0;34m(\u001b[0m\u001b[0mnum_epochs\u001b[0m\u001b[0;34m)\u001b[0m\u001b[0;34m]\u001b[0m\u001b[0;34m\u001b[0m\u001b[0;34m\u001b[0m\u001b[0m\n\u001b[0m",
      "\u001b[0;31mKeyError\u001b[0m: 'val_mean_absolute_error'"
     ]
    }
   ],
   "source": [
    "average_mae_history_base = [np.mean([x[i] for x in hist_base]) for i in range(num_epochs)]"
   ]
  },
  {
   "cell_type": "code",
   "execution_count": 47,
   "metadata": {},
   "outputs": [
    {
     "ename": "KeyError",
     "evalue": "'val_mean_absolute_error'",
     "output_type": "error",
     "traceback": [
      "\u001b[0;31m---------------------------------------------------------------------------\u001b[0m",
      "\u001b[0;31mKeyError\u001b[0m                                  Traceback (most recent call last)",
      "\u001b[0;32m<ipython-input-47-4ccc2c32a8f5>\u001b[0m in \u001b[0;36m<module>\u001b[0;34m\u001b[0m\n\u001b[0;32m----> 1\u001b[0;31m \u001b[0;34m[\u001b[0m\u001b[0;34m[\u001b[0m\u001b[0mx\u001b[0m\u001b[0;34m.\u001b[0m\u001b[0mhistory\u001b[0m\u001b[0;34m[\u001b[0m\u001b[0;34m'val_mean_absolute_error'\u001b[0m\u001b[0;34m]\u001b[0m\u001b[0;34m[\u001b[0m\u001b[0mi\u001b[0m\u001b[0;34m]\u001b[0m \u001b[0;32mfor\u001b[0m \u001b[0mx\u001b[0m \u001b[0;32min\u001b[0m \u001b[0mhistbase\u001b[0m\u001b[0;34m]\u001b[0m \u001b[0;32mfor\u001b[0m \u001b[0mi\u001b[0m \u001b[0;32min\u001b[0m \u001b[0mrange\u001b[0m\u001b[0;34m(\u001b[0m\u001b[0mnum_epochs\u001b[0m\u001b[0;34m)\u001b[0m\u001b[0;34m]\u001b[0m\u001b[0;34m\u001b[0m\u001b[0;34m\u001b[0m\u001b[0m\n\u001b[0m",
      "\u001b[0;32m<ipython-input-47-4ccc2c32a8f5>\u001b[0m in \u001b[0;36m<listcomp>\u001b[0;34m(.0)\u001b[0m\n\u001b[0;32m----> 1\u001b[0;31m \u001b[0;34m[\u001b[0m\u001b[0;34m[\u001b[0m\u001b[0mx\u001b[0m\u001b[0;34m.\u001b[0m\u001b[0mhistory\u001b[0m\u001b[0;34m[\u001b[0m\u001b[0;34m'val_mean_absolute_error'\u001b[0m\u001b[0;34m]\u001b[0m\u001b[0;34m[\u001b[0m\u001b[0mi\u001b[0m\u001b[0;34m]\u001b[0m \u001b[0;32mfor\u001b[0m \u001b[0mx\u001b[0m \u001b[0;32min\u001b[0m \u001b[0mhistbase\u001b[0m\u001b[0;34m]\u001b[0m \u001b[0;32mfor\u001b[0m \u001b[0mi\u001b[0m \u001b[0;32min\u001b[0m \u001b[0mrange\u001b[0m\u001b[0;34m(\u001b[0m\u001b[0mnum_epochs\u001b[0m\u001b[0;34m)\u001b[0m\u001b[0;34m]\u001b[0m\u001b[0;34m\u001b[0m\u001b[0;34m\u001b[0m\u001b[0m\n\u001b[0m",
      "\u001b[0;32m<ipython-input-47-4ccc2c32a8f5>\u001b[0m in \u001b[0;36m<listcomp>\u001b[0;34m(.0)\u001b[0m\n\u001b[0;32m----> 1\u001b[0;31m \u001b[0;34m[\u001b[0m\u001b[0;34m[\u001b[0m\u001b[0mx\u001b[0m\u001b[0;34m.\u001b[0m\u001b[0mhistory\u001b[0m\u001b[0;34m[\u001b[0m\u001b[0;34m'val_mean_absolute_error'\u001b[0m\u001b[0;34m]\u001b[0m\u001b[0;34m[\u001b[0m\u001b[0mi\u001b[0m\u001b[0;34m]\u001b[0m \u001b[0;32mfor\u001b[0m \u001b[0mx\u001b[0m \u001b[0;32min\u001b[0m \u001b[0mhistbase\u001b[0m\u001b[0;34m]\u001b[0m \u001b[0;32mfor\u001b[0m \u001b[0mi\u001b[0m \u001b[0;32min\u001b[0m \u001b[0mrange\u001b[0m\u001b[0;34m(\u001b[0m\u001b[0mnum_epochs\u001b[0m\u001b[0;34m)\u001b[0m\u001b[0;34m]\u001b[0m\u001b[0;34m\u001b[0m\u001b[0;34m\u001b[0m\u001b[0m\n\u001b[0m",
      "\u001b[0;31mKeyError\u001b[0m: 'val_mean_absolute_error'"
     ]
    }
   ],
   "source": [
    "[[x.history['val_mean_absolute_error'][i] for x in histbase] for i in range(num_epochs)]"
   ]
  },
  {
   "cell_type": "code",
   "execution_count": 49,
   "metadata": {},
   "outputs": [
    {
     "data": {
      "text/plain": [
       "dict_keys(['loss', 'mean_absolute_error'])"
      ]
     },
     "execution_count": 49,
     "metadata": {},
     "output_type": "execute_result"
    }
   ],
   "source": [
    "histbase[0].history.keys()"
   ]
  },
  {
   "cell_type": "code",
   "execution_count": null,
   "metadata": {},
   "outputs": [],
   "source": []
  }
 ],
 "metadata": {
  "kernelspec": {
   "display_name": "Python 3",
   "language": "python",
   "name": "python3"
  },
  "language_info": {
   "codemirror_mode": {
    "name": "ipython",
    "version": 3
   },
   "file_extension": ".py",
   "mimetype": "text/x-python",
   "name": "python",
   "nbconvert_exporter": "python",
   "pygments_lexer": "ipython3",
   "version": "3.6.8"
  }
 },
 "nbformat": 4,
 "nbformat_minor": 2
}
